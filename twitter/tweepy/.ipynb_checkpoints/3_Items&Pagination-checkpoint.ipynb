{
 "cells": [
  {
   "cell_type": "code",
   "execution_count": 1,
   "metadata": {},
   "outputs": [],
   "source": [
    "import tweepy\n",
    "import webbrowser\n",
    "import time"
   ]
  },
  {
   "cell_type": "code",
   "execution_count": 2,
   "metadata": {},
   "outputs": [],
   "source": [
    "consumer_key = \"\"\n",
    "consumer_secret = \"\"\n",
    "access_token = \"\"\n",
    "access_token_secret = \"\""
   ]
  },
  {
   "cell_type": "code",
   "execution_count": 3,
   "metadata": {},
   "outputs": [],
   "source": [
    "callback_uri='oob'"
   ]
  },
  {
   "cell_type": "code",
   "execution_count": 4,
   "metadata": {},
   "outputs": [],
   "source": [
    "auth=tweepy.OAuthHandler(consumer_key,consumer_secret,callback_uri)\n",
    "redirect_url=auth.get_authorization_url()"
   ]
  },
  {
   "cell_type": "code",
   "execution_count": 5,
   "metadata": {},
   "outputs": [
    {
     "data": {
      "text/plain": [
       "True"
      ]
     },
     "execution_count": 5,
     "metadata": {},
     "output_type": "execute_result"
    }
   ],
   "source": [
    "webbrowser.open(redirect_url)"
   ]
  },
  {
   "cell_type": "code",
   "execution_count": 6,
   "metadata": {},
   "outputs": [
    {
     "name": "stdout",
     "output_type": "stream",
     "text": [
      "What's the pin value?4776656\n"
     ]
    }
   ],
   "source": [
    "user_pin_input=input(\"What's the pin value?\")"
   ]
  },
  {
   "cell_type": "code",
   "execution_count": 7,
   "metadata": {},
   "outputs": [
    {
     "data": {
      "text/plain": [
       "('1265579879430488065-GPcUBR56elloJ30xEvRNfgxtW5GaDK',\n",
       " '0ShDXpeC0Yt5oxvze8T1V9U8PdAUa7GoaMmGIDqHYzryO')"
      ]
     },
     "execution_count": 7,
     "metadata": {},
     "output_type": "execute_result"
    }
   ],
   "source": [
    "auth.get_access_token(user_pin_input)"
   ]
  },
  {
   "cell_type": "code",
   "execution_count": 8,
   "metadata": {},
   "outputs": [
    {
     "name": "stdout",
     "output_type": "stream",
     "text": [
      "1265579879430488065-GPcUBR56elloJ30xEvRNfgxtW5GaDK 0ShDXpeC0Yt5oxvze8T1V9U8PdAUa7GoaMmGIDqHYzryO\n"
     ]
    }
   ],
   "source": [
    "print(auth.access_token,auth.access_token_secret)"
   ]
  },
  {
   "cell_type": "code",
   "execution_count": 9,
   "metadata": {},
   "outputs": [],
   "source": [
    "api=tweepy.API(auth)"
   ]
  },
  {
   "cell_type": "code",
   "execution_count": 10,
   "metadata": {},
   "outputs": [],
   "source": [
    "me=api.me()"
   ]
  },
  {
   "cell_type": "code",
   "execution_count": 12,
   "metadata": {},
   "outputs": [
    {
     "data": {
      "text/plain": [
       "1"
      ]
     },
     "execution_count": 12,
     "metadata": {},
     "output_type": "execute_result"
    }
   ],
   "source": [
    "len(api.home_timeline())"
   ]
  },
  {
   "cell_type": "code",
   "execution_count": 14,
   "metadata": {},
   "outputs": [
    {
     "name": "stdout",
     "output_type": "stream",
     "text": [
      "0 Hello world from python\n"
     ]
    }
   ],
   "source": [
    "for i,status in enumerate(tweepy.Cursor(api.home_timeline).items(50)):\n",
    "    print(i,status.text)"
   ]
  },
  {
   "cell_type": "code",
   "execution_count": 15,
   "metadata": {},
   "outputs": [
    {
     "name": "stdout",
     "output_type": "stream",
     "text": [
      "0 Past few days I’ve been stunned trying make sense of George Floyd’s death. \n",
      "The video. \n",
      "The plea for breath. \n",
      "The c… https://t.co/yza8QId0XF\n",
      "1 @BrandonDavisBD @IAmJericho Legendary entrance from Y2J and no greater way to make your WWE debut. I was really exc… https://t.co/PJZtNPTMh7\n",
      "2 But at least he’s protecting your face. Smart smart kid. Protect the 💰 at all times 🤣👊🏾 https://t.co/AJId5DJgTj\n",
      "3 RT @RachelATC: Holy crap! Chante \"THE BEAST\" McMillan just beat Olympic double gold medalist Clarissa Shields. McMillan may not have medale…\n",
      "4 RT @tcartwright86: @TheRock #TITANGAMES Is already blowing last season away, and that's saying something since last season was 🔥🔥🔥🔥.\n",
      "5 RT @nbctitangames: .@Matt1Chan is giving it his all, but @joethomas73 won't be giving up that easily! #TitanGames https://t.co/LJrY1LHgdD\n",
      "6 WOW what an electric match up! Incredible effort Steven - you left it all in the TITAN ARENA. Big congrats to our r… https://t.co/n9doEQYk9y\n",
      "7 💯! Our male athletes BRING IT. \n",
      "But our female athletes STEAL THE SHOW 👏🏾💪🏾🥃\n",
      "#TITANGAMES https://t.co/EsewaZ76go\n",
      "8 Alright, my guy Steven ‘The Pebble’ Shelby is getting hyped to not only take on Mt Olympus, but to take on the HUMA… https://t.co/cgJygM9Z4c\n",
      "9 RT @nbctitangames: That Olympian mentality is burning bright in @chan_taemac's eyes! 🔥 #TitanGames https://t.co/lAQ0zNcM7Q\n",
      "10 Physically grueling and insanely intense, YES. \n",
      "But then past the fatigued and exhaustion it becomes all mental. \n",
      "M… https://t.co/MJkKw9FL7I\n",
      "11 RT @TwitterMoments: \"We are all in the need to get some sports back into our lives.\" Dwayne @TheRock Johnson is back for the second season…\n",
      "12 Huge respect for you both, Champ!! \n",
      "Much different than boxing, but it’s the competition that’s the fuel. \n",
      "You’re t… https://t.co/RczrzjOP2E\n",
      "13 RT @Pleas_Kelley313: Mount Olympus will leave your breathless every single time 👏🏾👏🏾👏🏾👏🏾 these competitors are amazing #TitanGames\n",
      "14 Our @NBCTitanGames is all about the electric competition...but win or lose, it’s also about the loved ones cheering… https://t.co/zBlrdvzNHj\n",
      "15 RT @StoryofEverest: Chantae McMillan, Olympic heptathlete, just absolutely crushed Olympus and replaces Claressa Shields. Shields can still…\n",
      "16 I’ll tell ya @chan_taemac is our powerhouse! \n",
      "Competed in the Olympics in track and field. \n",
      "I’ve been around some I… https://t.co/0mPd4FOMgi\n",
      "17 Thank you so much! \n",
      "Me and our team just create the platform for people to shine. \n",
      "Our athletes are our show’s anch… https://t.co/saB4v2K9Bd\n",
      "18 Our Mt. Olympus requires a wholeeee new level of athletic skill. Does @Chan_taemac have anything left in her,… https://t.co/5O4w48y0tu\n",
      "19 RT @AngeloHabs4life: @TheRock such a good host and this show kicks ass.. it’s so fun and so much entertainment and it looks really really t…\n"
     ]
    }
   ],
   "source": [
    "other_user='therock'\n",
    "for i,status in enumerate(tweepy.Cursor(api.user_timeline,screen_name=other_user).items(20)):\n",
    "    print(i,status.text)"
   ]
  },
  {
   "cell_type": "code",
   "execution_count": 16,
   "metadata": {},
   "outputs": [
    {
     "data": {
      "text/plain": [
       "User(_api=<tweepy.api.API object at 0x10cd7b400>, _json={'id': 250831586, 'id_str': '250831586', 'name': 'Dwayne Johnson', 'screen_name': 'TheRock', 'location': '', 'profile_location': None, 'description': 'CEO: Seven Bucks Companies', 'url': None, 'entities': {'description': {'urls': []}}, 'protected': False, 'followers_count': 14613250, 'friends_count': 286, 'listed_count': 29783, 'created_at': 'Fri Feb 11 22:14:10 +0000 2011', 'favourites_count': 322, 'utc_offset': None, 'time_zone': None, 'geo_enabled': False, 'verified': True, 'statuses_count': 24486, 'lang': None, 'status': {'created_at': 'Sat May 30 16:35:51 +0000 2020', 'id': 1266770309488824321, 'id_str': '1266770309488824321', 'text': 'Past few days I’ve been stunned trying make sense of George Floyd’s death. \\nThe video. \\nThe plea for breath. \\nThe c… https://t.co/yza8QId0XF', 'truncated': True, 'entities': {'hashtags': [], 'symbols': [], 'user_mentions': [], 'urls': [{'url': 'https://t.co/yza8QId0XF', 'expanded_url': 'https://twitter.com/i/web/status/1266770309488824321', 'display_url': 'twitter.com/i/web/status/1…', 'indices': [117, 140]}]}, 'source': '<a href=\"http://instagram.com\" rel=\"nofollow\">Instagram</a>', 'in_reply_to_status_id': None, 'in_reply_to_status_id_str': None, 'in_reply_to_user_id': None, 'in_reply_to_user_id_str': None, 'in_reply_to_screen_name': None, 'geo': None, 'coordinates': None, 'place': None, 'contributors': None, 'is_quote_status': False, 'retweet_count': 3264, 'favorite_count': 24723, 'favorited': False, 'retweeted': False, 'possibly_sensitive': False, 'lang': 'en'}, 'contributors_enabled': False, 'is_translator': False, 'is_translation_enabled': True, 'profile_background_color': '131516', 'profile_background_image_url': 'http://abs.twimg.com/images/themes/theme14/bg.gif', 'profile_background_image_url_https': 'https://abs.twimg.com/images/themes/theme14/bg.gif', 'profile_background_tile': True, 'profile_image_url': 'http://pbs.twimg.com/profile_images/3478244961/01ebfc40ecc194a2abc81e82ab877af4_normal.jpeg', 'profile_image_url_https': 'https://pbs.twimg.com/profile_images/3478244961/01ebfc40ecc194a2abc81e82ab877af4_normal.jpeg', 'profile_banner_url': 'https://pbs.twimg.com/profile_banners/250831586/1588698973', 'profile_link_color': '1B95E0', 'profile_sidebar_border_color': '000000', 'profile_sidebar_fill_color': 'C7C7C7', 'profile_text_color': '333333', 'profile_use_background_image': False, 'has_extended_profile': True, 'default_profile': False, 'default_profile_image': False, 'following': False, 'follow_request_sent': False, 'notifications': False, 'translator_type': 'regular'}, id=250831586, id_str='250831586', name='Dwayne Johnson', screen_name='TheRock', location='', profile_location=None, description='CEO: Seven Bucks Companies', url=None, entities={'description': {'urls': []}}, protected=False, followers_count=14613250, friends_count=286, listed_count=29783, created_at=datetime.datetime(2011, 2, 11, 22, 14, 10), favourites_count=322, utc_offset=None, time_zone=None, geo_enabled=False, verified=True, statuses_count=24486, lang=None, status=Status(_api=<tweepy.api.API object at 0x10cd7b400>, _json={'created_at': 'Sat May 30 16:35:51 +0000 2020', 'id': 1266770309488824321, 'id_str': '1266770309488824321', 'text': 'Past few days I’ve been stunned trying make sense of George Floyd’s death. \\nThe video. \\nThe plea for breath. \\nThe c… https://t.co/yza8QId0XF', 'truncated': True, 'entities': {'hashtags': [], 'symbols': [], 'user_mentions': [], 'urls': [{'url': 'https://t.co/yza8QId0XF', 'expanded_url': 'https://twitter.com/i/web/status/1266770309488824321', 'display_url': 'twitter.com/i/web/status/1…', 'indices': [117, 140]}]}, 'source': '<a href=\"http://instagram.com\" rel=\"nofollow\">Instagram</a>', 'in_reply_to_status_id': None, 'in_reply_to_status_id_str': None, 'in_reply_to_user_id': None, 'in_reply_to_user_id_str': None, 'in_reply_to_screen_name': None, 'geo': None, 'coordinates': None, 'place': None, 'contributors': None, 'is_quote_status': False, 'retweet_count': 3264, 'favorite_count': 24723, 'favorited': False, 'retweeted': False, 'possibly_sensitive': False, 'lang': 'en'}, created_at=datetime.datetime(2020, 5, 30, 16, 35, 51), id=1266770309488824321, id_str='1266770309488824321', text='Past few days I’ve been stunned trying make sense of George Floyd’s death. \\nThe video. \\nThe plea for breath. \\nThe c… https://t.co/yza8QId0XF', truncated=True, entities={'hashtags': [], 'symbols': [], 'user_mentions': [], 'urls': [{'url': 'https://t.co/yza8QId0XF', 'expanded_url': 'https://twitter.com/i/web/status/1266770309488824321', 'display_url': 'twitter.com/i/web/status/1…', 'indices': [117, 140]}]}, source='Instagram', source_url='http://instagram.com', in_reply_to_status_id=None, in_reply_to_status_id_str=None, in_reply_to_user_id=None, in_reply_to_user_id_str=None, in_reply_to_screen_name=None, geo=None, coordinates=None, place=None, contributors=None, is_quote_status=False, retweet_count=3264, favorite_count=24723, favorited=False, retweeted=False, possibly_sensitive=False, lang='en'), contributors_enabled=False, is_translator=False, is_translation_enabled=True, profile_background_color='131516', profile_background_image_url='http://abs.twimg.com/images/themes/theme14/bg.gif', profile_background_image_url_https='https://abs.twimg.com/images/themes/theme14/bg.gif', profile_background_tile=True, profile_image_url='http://pbs.twimg.com/profile_images/3478244961/01ebfc40ecc194a2abc81e82ab877af4_normal.jpeg', profile_image_url_https='https://pbs.twimg.com/profile_images/3478244961/01ebfc40ecc194a2abc81e82ab877af4_normal.jpeg', profile_banner_url='https://pbs.twimg.com/profile_banners/250831586/1588698973', profile_link_color='1B95E0', profile_sidebar_border_color='000000', profile_sidebar_fill_color='C7C7C7', profile_text_color='333333', profile_use_background_image=False, has_extended_profile=True, default_profile=False, default_profile_image=False, following=False, follow_request_sent=False, notifications=False, translator_type='regular')"
      ]
     },
     "execution_count": 16,
     "metadata": {},
     "output_type": "execute_result"
    }
   ],
   "source": [
    "the_rock_user=api.get_user(other_user)\n",
    "the_rock_user"
   ]
  },
  {
   "cell_type": "code",
   "execution_count": null,
   "metadata": {},
   "outputs": [],
   "source": []
  },
  {
   "cell_type": "code",
   "execution_count": 23,
   "metadata": {},
   "outputs": [
    {
     "name": "stdout",
     "output_type": "stream",
     "text": [
      "0 1401135751\n",
      "1 23019705\n",
      "2 232595517\n",
      "3 30272162\n",
      "4 1024336429198049280\n",
      "5 11347122\n",
      "6 38349184\n",
      "7 22799750\n",
      "8 800707492346925056\n",
      "9 46966542\n",
      "10 270494532\n",
      "11 34713362\n",
      "12 420654392\n",
      "13 1198582129\n",
      "14 1075768574445305856\n",
      "15 15876379\n",
      "16 269647679\n",
      "17 760543726888333312\n",
      "18 27676444\n",
      "19 1062738433716686848\n",
      "20 6446742\n",
      "21 289256940\n",
      "22 61903300\n",
      "23 2473821354\n",
      "24 95023423\n",
      "25 223841564\n",
      "26 66573775\n",
      "27 725897344357519360\n",
      "28 18237511\n",
      "29 1151204704493264897\n"
     ]
    }
   ],
   "source": [
    "the_rock_friends=[]\n",
    "for i,friend in enumerate(tweepy.Cursor(api.friends, screen_name=other_user).items(30)):\n",
    "    # Process the friend here\n",
    "    the_rock_friends.append(friend.id)\n",
    "    print(i,friend.id)"
   ]
  },
  {
   "cell_type": "code",
   "execution_count": 25,
   "metadata": {},
   "outputs": [
    {
     "data": {
      "text/plain": [
       "'jason_blum'"
      ]
     },
     "execution_count": 25,
     "metadata": {},
     "output_type": "execute_result"
    }
   ],
   "source": [
    "api.get_user(the_rock_friends[0]).screen_name"
   ]
  },
  {
   "cell_type": "code",
   "execution_count": 37,
   "metadata": {},
   "outputs": [
    {
     "name": "stdout",
     "output_type": "stream",
     "text": [
      "0 The #Pentagon is considering compressing the #COVID-19 quarantine period for personnel from 14 to 10 days, top offi… https://t.co/LHwnwWSNFB FCWnow\n",
      "1 #Entérate Realizan cuarto operativo de entrega de apoyos alimenticios a las familias más afectadas por la pandemia… https://t.co/vcOZbJ1pJ4 ElSoldeDurango\n",
      "2 RT @ALunaSilva: 🦠#REPORTE #COVID-19 #Puebla Lunes 1 junio 2020:\n",
      "\n",
      "📍 3,099 casos positivos (343+ que el pasado viernes).\n",
      "\n",
      "📍497 defunciones (3… PatyGallup\n",
      "3 RT @ChecheCamp: #EcuadorSinPescaDeTiburon Algunos considerarán que en momentos de #Covid el tráfico de aletas de tiburón es irrelevante, pe… ChecheCamp\n",
      "4 RT @georgegalloway: KIDS ARE BACK AT SCHOOL | Mine are not. Are yours? It seems a second wave is coming. #COVID-19 #MOATS\n",
      "\n",
      "IS IT SAFE YET?… Desiree97905743\n",
      "5 #Toyota and #Lexus employees didn’t let the #COVID-19 stay-at-home orders stop them from giving back to the communi… https://t.co/NhABPA4ROo eric_mags\n",
      "6 Whoop whoop sun's out 😀😀 time to go to the beach ..... Oh can't !! Stupid #covid-19 🤨🤨#staysafe klaudiao\n",
      "7 #COVID AIRLINES 😂🤣🤣👍 https://t.co/iBhxbbpuja GendtIrene\n",
      "8 RT @OllinChafoya: Dos meses después de estar en cuarentena:\n",
      "\n",
      "- Tenemos 12 millones de pobres nuevos.\n",
      "\n",
      "- Una curva de contagios por #COVID q… OscarTellez\n",
      "9 RT @StellaMoris1: My statement to the court in support of Julian's bail application. Part 4 of 4\n",
      "#Assange #prisonerspeopletoo #COVID #COVID… helena_jennie\n",
      "10 RT @JuciltoledoO: 🔴 Desprecio a los miembros de la Guardia Civil\n",
      "\n",
      "🔻 Fulminados del protocolo de exposición al riesgo derivado de #COVID19 p… Josu64967016\n",
      "11 RT @Coco_Crime_Fam: Everyone chill ✌  goddess is safe, rich and beautiful still  @CocosFindom #covid #Riot2020 https://t.co/fSTno6Ci4B CocosFindom\n",
      "12 RT @CarolineLucas: Lockdown is being lifted before Govt’s own 5 tests are met\n",
      "\n",
      "Scientists say it's too soon\n",
      "\n",
      "Public health officials say so… martinschmierer\n",
      "13 I don’t know who needs to hear this, but #COVID is not the fault of frontline DMV employees or any other frontline… https://t.co/sGyypuYAfE georgestern\n",
      "14 RT @McMasterU: A review of a century of evidence shows that cloth masks are, indeed, effective at blocking droplet and aerosol contaminatio… loulouBNB1\n",
      "15 @Doktor_FreakOut am besten sofort (multispreaderereignis) alle in ein grosses Quarantäne-Zentrum.da dürfen sie weit… https://t.co/nwefYMSjZf k_kaskeline\n",
      "16 StopCovid n'a pas été installée en douce par le gouvernement sur votre téléphone\n",
      "#Covid_19 #COVID2019 #COVID19… https://t.co/Ac88svIAXj thpoussin\n",
      "17 RT @JucilCReal: 🔴 Desprecio a los miembros de la Guardia Civil\n",
      "\n",
      "🔻 Fulminados del protocolo de exposición al riesgo derivado de #COVID19 por… Josu64967016\n",
      "18 RT @TeruelJucil: 🔴 Desprecio a los miembros de la Guardia Civil\n",
      "\n",
      "🔻 Fulminados del protocolo de exposición al riesgo derivado de #COVID19 po… Josu64967016\n",
      "19 RT @liderdefe7: Dios tiene propósitos en tu vida, y quizás pienses que es demasiado tarde, Dios no llega tarde, Él te levantará en su tiemp… asteroide14\n",
      "20 RT @projects_today: Projects Today Survey | Projects Scenario in post #COVID-19 era Indian #Pharmas and #Healthcare  to grow\n",
      "\n",
      "Watch More: h… NikiBhandary\n",
      "21 23% of Americans say they or one of their family members will soon need #Medicaid. Congress must ensure that there’… https://t.co/DI38HS4jII HepSyracuse\n",
      "22 2020:\n",
      "The nation is on fire and sick with #covid — and the President is in a bunker conferring with KILMEADE https://t.co/yNWZir2tuy linc0lnpark\n",
      "23 Filas en bancos de #Cuernavaca sin \"Sana Distancia\"\n",
      "\n",
      "A pesar de que las #autoridades municipales acordaron con las… https://t.co/DMHwzHCfYe eldatomx\n",
      "24 #COVID-19: Les déplacements à l'intérieur du #Nunavut sont maintenant permis, annonce le médecin hygiéniste en chef… https://t.co/1ohhSorfHl MatisseHarvey\n",
      "25 RT @WorthingSupport: Crafting For #Covid – Urgent Appeal for money and materials. The volunteer crafters in #Worthing are making items for… LuisAlgorta\n",
      "26 RT @isitdinneryet: The more informed we are, the better we can advocate.\n",
      "\n",
      "I encourage you to read this insightful (devastating, powerful) a… LynnePatalano\n",
      "27 😷What’s the story so far? How has the sector responded? What’s the outlook for the next 2 years? Get the answer to… https://t.co/YHtlj71N5b Downstream2020\n",
      "28 RT @realJosiahBurke: Serious questions surround the hundreds of deaths in nursing homes and #Covid wards. These people were voiceless, isol… nspec2a\n",
      "29 At @thesafetynet.in we have regular podcasts and videos to educate you on common illnesses, myth busting and FAQs a… https://t.co/fk501mjAuw thesafetynetin\n",
      "30 RT @RahulEaswar: Police arrests Hari for  meat in #Temple \n",
      "\n",
      "More important issue than #coronavirus to address for us #Hindus \n",
      "\n",
      "More imp bco… ImNAmshIy\n",
      "31 https://t.co/LNsQ5ny7Xs.Exhausted.  I want this nightmare to end. #TrumpDepression #COVID #protests2020 #GeorgeFloyd AzHappyin\n",
      "32 .@NYGovCuomo reports the lowest number of #covid deaths in a single day during pandemic, he says 54 people died in… https://t.co/YXLPI6IBo3 AnneMcCloyNews\n",
      "33 RT @Rwandapolice: Good morning,\n",
      "\n",
      "Reference to the communication from the Office of the Prime Minister on measures against spread of #Covid-… kjclaude13\n",
      "34 RT @CarolineLucas: Lockdown is being lifted before Govt’s own 5 tests are met\n",
      "\n",
      "Scientists say it's too soon\n",
      "\n",
      "Public health officials say so… IrishArchivist\n",
      "35 RT @DebevecTadej: #COVID-19 Survey: Athletes’ Training, Attitudes &amp; Beliefs during Global Lockdown\n",
      "\n",
      "Day 14 - 7161 respondents \n",
      "\n",
      "If you are… HaBDirect\n",
      "36 #Covid-19: Questions of conscience and duty for scientific advisers https://t.co/5OK14SJjYa While many have been wo… https://t.co/4NcrxYoxwy gavin_barlow\n",
      "37 RT @WeedenKim: #COVID-19 surge in ages 10-19 and 20-39 in WA is troubling. I wish, though, that PH &amp; medical papers would report rates by s… BraunMath\n",
      "38 RT @StellaMoris1: #COVID does not make solitary confinement acceptable. Julian has been kept in a single cell for +23h/day for over eight w… helena_jennie\n",
      "39 RT @nicopirri: 🔴 #Covid-19 | Todos los exámenes de coronavirus a los jugadores de #Wanderers dieron negativo. https://t.co/kU5zQcSEPF leandroalbin1\n",
      "40 RT @Jali_Cat: Absolute idiocy.🙄\n",
      "\n",
      "Michael Chertoff, ‘advising’ DC's @MayorBowser reopening, says schools should not reopen for in-person lea… DjLots3\n",
      "41 Anyone else being extra precautious about completely non-corona related things? My brain has adopted the mentality… https://t.co/Q6UE7M5NyP KBRiley7\n",
      "42 COVID-19: Infarmed e DGS suspendem uso de hidroxicloroquina, 1 Junho 2020\n",
      "Comunicado do Infarmed\n",
      "Ver mais:… https://t.co/6aunF8biaY ALERT_online\n",
      "43 RT @teleamazonasec: #Brasil recibió dos millones de dosis de hidroxiclorina de #EstadosUnidos para tratar el #COVID-19 https://t.co/n9chZ0y… AndreaVeraTern1\n",
      "44 #homevisiting, esp during #COVID, isn't just about bonds btw children/caregivers. They're meeting basic needs. \"How… https://t.co/aZtJZVHrLQ ChildFirstInc\n",
      "45 RT @MirrorNow: The trigger was death of a #black man at the hands of a white police officer. There's an explosion of energy &amp; emotion stemm… sanjai2july\n",
      "46 RT @CarolineLucas: Lockdown is being lifted before Govt’s own 5 tests are met\n",
      "\n",
      "Scientists say it's too soon\n",
      "\n",
      "Public health officials say so… twilightDreams\n",
      "47 RT @TheNorthTrooper: New #month, new #beginnings. It's crazy out there, #covid and #racism running wild on us all. Please be #smart, be #sa… William54438003\n",
      "48 In places like #Indonesia, #Nepal and #CentralAmerica, there is concern that, without adequate resourcing, communit… https://t.co/2P4DT104uP sioconnell1\n",
      "49 RT @tvcnewsng: #HappeningNow : PTF briefing on #COVID-19\n",
      "Watch online on youtube https://t.co/VeQlwzriF0 https://t.co/BxSdxNhHm7 Armsty004\n",
      "50 RT @clubverde_: Algunos considerarán que en momentos de #Covid el tráfico de aletas de tiburón es irrelevante, pero en realidad esta notici… ChecheCamp\n",
      "51 RT @rifatabdullahh: #COVID-19 \n",
      "33 samples tested Positive at CD Hospital today so far.\n",
      "12 Anantnag. \n",
      "07 Kulgam.\n",
      "05 Baramulla.\n",
      "03 Pulwama.… COVID19RedZone\n",
      "52 स्टिंग में GSVM मेडिकल कॉलेज की प्रिंसिपल ने कहीं ‘आपत्तिजनक बातें’, माहौल गर्म #Kanpur #Jamaati #Covid @NBTLucknow\n",
      "\n",
      "https://t.co/Baq4392YEj MohtaPraveenNBT\n",
      "53 RT @ALBERTCADENAS: #NuevaNormalidadRelativa \n",
      "#COVID-19 Mantente físicamente activo y tranquilo durante la cuarentena. Y ... recuerda, lávat… KARINAP24985340\n",
      "54 @MichelCaballero @CesarTrompizVEN amigos en esta situación de #pandemia  por el #covid-19 tenemos algunos muchachos… https://t.co/TBzE1vHPP0 EmerixUrbaneja\n",
      "55 #EcuadorSinPescaDeTiburon Algunos considerarán que en momentos de #Covid el tráfico de aletas de tiburón es irrelev… https://t.co/uGVjjRlFJj ChecheCamp\n",
      "56 RT @WeissJsw819: Startling. https://t.co/VKL1ZxZSKh\n",
      "\n",
      "C l I c k: https://t.co/IN9IezZ3GH\n",
      "\n",
      "#coronavirus #COVID #COVID19 #healthy #occult #spi… SturmEnrich\n",
      "57 RT @DrSamirSinha: 85 year old David Stewart's honest, humorous and thoughtful account of living through a #COVID-19 outbreak at one of Onta… ryanjscanlan\n",
      "58 RT @thekapadia: @IAS_Rubal \n",
      "\n",
      "Mam - we really appreciate efforts from PMC and Pune Police, since Mar'20, to keep #Covid in #Pune under contr… bhagyashreemodi\n",
      "59 RT @PAEecuador: Algunos considerarán que en momentos de #Covid el tráfico de aletas de tiburón es irrelevante, pero en realidad esta notici… ChecheCamp\n"
     ]
    },
    {
     "name": "stdout",
     "output_type": "stream",
     "text": [
      "60 RT @jucilnacional: 🔴 Desprecio a los miembros de la Guardia Civil\n",
      "\n",
      "🔻 Fulminados del protocolo de exposición al riesgo derivado de #COVID19… 70Sigurd\n",
      "61 8/ In general, the main objective is to help individuals in distress who are seeking access to information and offe… https://t.co/SSz68BBqkM OlegFeldgajer\n",
      "62 RT @CarolineLucas: Lockdown is being lifted before Govt’s own 5 tests are met\n",
      "\n",
      "Scientists say it's too soon\n",
      "\n",
      "Public health officials say so… chriis337\n",
      "63 70% of the loans for @IDBI_Bank as well. #LoanMoratorium #COVID #India https://t.co/TrhGano896 shyamalkishore\n",
      "64 RT @htTweets: As India enters #Unlock1, the focus is now on reviving and restarting the economy. Meanwhile, India climbed up to 7th spot in… setyaadipurnomo\n",
      "65 RT @pmigoya: Yo que ustedes hoy mas que nunca extremaba precauciones para evitar el contagio de #Covid #QuedateEnCasa \n",
      "Tú vida y seguridad… chevergara1\n",
      "66 The trigger was death of a #black man at the hands of a white police officer. There's an explosion of energy &amp; emot… https://t.co/txe4zedQoC MirrorNow\n",
      "67 RT @PIB_India: Check out 👇\n",
      "\n",
      "◾ #COVID Updates from @MoHFW_INDIA \n",
      "\n",
      "◾ @RailMinIndia Updates\n",
      "\n",
      "◾#CabinetDecisions \n",
      "\n",
      "◾new on @PIBFactCheck \n",
      "\n",
      "&amp; mu… FOBGumla\n",
      "68 RT @Health_Affairs: What have #foundations been doing in the fight against #COVID-19? Plenty! Part III, #GrantWatch. Read about surveys, #g… nys_health\n",
      "69 RT @BanglarGorboMB: অন্যান্য রাজ্য থেকে আগত নাগরিকদের পশ্চিমবঙ্গ রাজ্য সরকার পরিচালিত কোয়ারেন্টাইন সেন্টারগুলিতে সকল সুবিধা প্রদান করা হয়… chauliaarghya\n",
      "70 RT @nevinthomas: Senior journalist is THANKING a CM because she could get her haircut done when the number of #COVID cases in the region is… ROALY\n",
      "71 RT @TPU19J: 🔥 #AHORA 🔥 Pueblo de Bolivia sale a las calles hoy #31Mayo cansado de la corrupción de Jeanine Añez y sus 40 ladrones y de la c… obedjavier3\n",
      "72 Así está el mapa “oficial” del coronavirus en Andalucía: un fallecido menos https://t.co/EKtqZRCou2 #coronavirus… https://t.co/9PxUt5S5No _lavozdecordoba\n",
      "73 #Autism in the time of the #Coronavirus: institutional blindness #covid19 #covid-19 #wwg1wga #HelPeopleONLUS… https://t.co/Pa4wiNBNiV FundingTweets\n",
      "74 RT @SofiaEspinRC: Colectivos sociales, defensores de DDHH, Defensor del Pueblo han advertido reiteradamente al gobierno del Ecuador que act… Sandinin\n",
      "75 RT @AnneTheWriter1: @Mikel_Jollett @QuancyClayborne #ICantBreathe #BLM #WearAMask \n",
      "#Covid #CoronavirusUSA #GeorgeFloyd https://t.co/jpX9uY7… HollySp76149165\n",
      "76 RT @AlokSharma_RDG: 5 new drugs are being trialled across UK hospitals through the national #coronavirus ACCORD programme, which brings tog… BerksBlackBiz\n",
      "77 RT @NupurSharmaBJP: :@ArvindKejriwal की घटिया सोच व गंदी राजनीति\n",
      "\n",
      "-“मुफ़्त-मुफ़्त” का गाना गाके गरीब, श्रमिकों को बहलाओ\n",
      "-चुनाव में इन ही ग… MaheshMVP\n",
      "78 @Photogkris @realDonaldTrump CoVid19 was hijacked by the #WHO to to prep for the UnitedNations #Agenda21… https://t.co/QwFAsqs8DI WalkingSeaWater\n",
      "79 RT @BanglarGorboMB: অন্যান্য রাজ্য থেকে আগত নাগরিকদের পশ্চিমবঙ্গ রাজ্য সরকার পরিচালিত কোয়ারেন্টাইন সেন্টারগুলিতে সকল সুবিধা প্রদান করা হয়… maddy080888\n",
      "80 RT @Alvaro62342021: Algunos considerarán que en momentos de #Covid el tráfico de aletas de tiburón es irrelevante, pero en realidad esta no… ChecheCamp\n",
      "81 RT @DrJoeUnger: States most hard hit by the #COVID-19 Outbreak also saw the most dramatic drop in #cancer #clinicaltrials enrollment. Hats… fredhutch\n",
      "82 RT @USAFHealth: WELCOME HOME HEROES! Medical personnel from the 315th Aerospace Medicine Squadron return home after a month supporting the… Dius52871538\n",
      "83 RT @CarolineLucas: Lockdown is being lifted before Govt’s own 5 tests are met\n",
      "\n",
      "Scientists say it's too soon\n",
      "\n",
      "Public health officials say so… tonymchale_tony\n",
      "84 We were already reeling from #COVID, #racism, a struggling #economy, #layoffs and failed #leadership\n",
      "\n",
      "But today, I’… https://t.co/n73XECszn7 Smartissimple\n",
      "85 RT @SquireForYou: According to the CDC, so far this year, Florida has had 1,762 deaths from #COVID and 5,185 from pneumonia.\n",
      "\n",
      "Average pneum… nallard08\n",
      "86 RT @emediasn: MANIFESTATION À CAP SKIRRING : LA GENDARMERIE FAIT LE BILAN ET INVOQUE L’ÉTAT D’URGENCE\n",
      "\n",
      "https://t.co/f47UNIxcXr\n",
      "\n",
      "#covid #keb… BadProsper\n",
      "87 As India enters #Unlock1, the focus is now on reviving and restarting the economy. Meanwhile, India climbed up to 7… https://t.co/9Cjyvkp7oN htTweets\n",
      "88 RT @PIB_India: Check out 👇\n",
      "\n",
      "◾ #COVID Updates from @MoHFW_INDIA \n",
      "\n",
      "◾ @RailMinIndia Updates\n",
      "\n",
      "◾#CabinetDecisions \n",
      "\n",
      "◾new on @PIBFactCheck \n",
      "\n",
      "&amp; mu… PIBKolkata\n",
      "89 RT @mennovanhilten: Millions of people living with NCDs are calling for governments, donors and partners to “make them count” by increasing… giannagayle\n",
      "90 RT @EmpleoJunta: 📖La guía propone acciones para el antes, el durante y el después del proceso de vuelta al trabajo. \n",
      "\n",
      "📌Además, incluye un d… SantanoJorge\n",
      "91 RT @SaludGuanajuato: 🚧🚦Actualización de datos sobre el #Covid-19 en #GTO #QuédateEnCasa\n",
      "👉 https://t.co/TP9JwiSANQ https://t.co/ZHw2MLyH0C DELIAMUOZSANDOV\n",
      "92 RT @NupurSharmaBJP: :@ArvindKejriwal की घटिया सोच व गंदी राजनीति\n",
      "\n",
      "-“मुफ़्त-मुफ़्त” का गाना गाके गरीब, श्रमिकों को बहलाओ\n",
      "-चुनाव में इन ही ग… ok_programmer\n",
      "93 RT @thomfound: Pleased to involved in producing a unique free online training course to support Sudanese journalists understand and communi… oudenoored\n",
      "94 Also poses a well-known risk to those who struggle with alcohol use issues. Packaging needs to be changed to avoid… https://t.co/o9Gz11vnMZ Eleanor4Strath\n",
      "95 RT @greenpeaceusa: BREAKING: a new report reveals insurance industry is spending millions in advertising on Fox news programs promoting mis… annetonie\n",
      "96 RT @CarolineLucas: Lockdown is being lifted before Govt’s own 5 tests are met\n",
      "\n",
      "Scientists say it's too soon\n",
      "\n",
      "Public health officials say so… remelrose1\n",
      "97 @groenlinks @jesseklaver Kan @jesseklaver de #demonstratie waar #groenlinks nu zelf toe oproept en waar geen handha… https://t.co/lFi5EV0kPI reanalist\n",
      "98 Viene lo peor de la epidemia #COVID. El análisis siempre acertado del periodista Gabriel Ibarra @bourjack* que escr… https://t.co/8jgSJalewc afondoJAL\n",
      "99 RT @NupurSharmaBJP: :@ArvindKejriwal की घटिया सोच व गंदी राजनीति\n",
      "\n",
      "-“मुफ़्त-मुफ़्त” का गाना गाके गरीब, श्रमिकों को बहलाओ\n",
      "-चुनाव में इन ही ग… ANU_VISHNOI\n"
     ]
    }
   ],
   "source": [
    "peticion='#covid'\n",
    "for i, status in enumerate(tweepy.Cursor(api.search, q=peticion).items(100)):\n",
    "    print(i, status.text, status.author.screen_name)"
   ]
  },
  {
   "cell_type": "code",
   "execution_count": 40,
   "metadata": {},
   "outputs": [
    {
     "ename": "AttributeError",
     "evalue": "'ResultSet' object has no attribute 'screen_name'",
     "output_type": "error",
     "traceback": [
      "\u001b[0;31m---------------------------------------------------------------------------\u001b[0m",
      "\u001b[0;31mAttributeError\u001b[0m                            Traceback (most recent call last)",
      "\u001b[0;32m<ipython-input-40-16d12c7ff49a>\u001b[0m in \u001b[0;36m<module>\u001b[0;34m()\u001b[0m\n\u001b[1;32m      2\u001b[0m \u001b[0msearch_results\u001b[0m\u001b[0;34m=\u001b[0m\u001b[0mset\u001b[0m\u001b[0;34m(\u001b[0m\u001b[0;34m)\u001b[0m\u001b[0;34m\u001b[0m\u001b[0m\n\u001b[1;32m      3\u001b[0m \u001b[0;32mfor\u001b[0m \u001b[0mi\u001b[0m\u001b[0;34m,\u001b[0m \u001b[0muser\u001b[0m \u001b[0;32min\u001b[0m \u001b[0menumerate\u001b[0m\u001b[0;34m(\u001b[0m\u001b[0mtweepy\u001b[0m\u001b[0;34m.\u001b[0m\u001b[0mCursor\u001b[0m\u001b[0;34m(\u001b[0m\u001b[0mapi\u001b[0m\u001b[0;34m.\u001b[0m\u001b[0msearch_users\u001b[0m\u001b[0;34m,\u001b[0m \u001b[0mq\u001b[0m\u001b[0;34m=\u001b[0m\u001b[0mpeticion\u001b[0m\u001b[0;34m,\u001b[0m \u001b[0mper_page\u001b[0m\u001b[0;34m=\u001b[0m\u001b[0;36m10\u001b[0m\u001b[0;34m)\u001b[0m\u001b[0;34m.\u001b[0m\u001b[0mpages\u001b[0m\u001b[0;34m(\u001b[0m\u001b[0;36m3\u001b[0m\u001b[0;34m)\u001b[0m\u001b[0;34m)\u001b[0m\u001b[0;34m:\u001b[0m\u001b[0;34m\u001b[0m\u001b[0m\n\u001b[0;32m----> 4\u001b[0;31m     \u001b[0mprint\u001b[0m\u001b[0;34m(\u001b[0m\u001b[0mi\u001b[0m\u001b[0;34m,\u001b[0m \u001b[0muser\u001b[0m\u001b[0;34m.\u001b[0m\u001b[0mscreen_name\u001b[0m\u001b[0;34m)\u001b[0m\u001b[0;34m\u001b[0m\u001b[0m\n\u001b[0m\u001b[1;32m      5\u001b[0m     \u001b[0;31m#search_results.add(user.screen_name)\u001b[0m\u001b[0;34m\u001b[0m\u001b[0;34m\u001b[0m\u001b[0m\n\u001b[1;32m      6\u001b[0m \u001b[0mprint\u001b[0m\u001b[0;34m(\u001b[0m\u001b[0mlist\u001b[0m\u001b[0;34m(\u001b[0m\u001b[0msearch_results\u001b[0m\u001b[0;34m)\u001b[0m\u001b[0;34m)\u001b[0m\u001b[0;34m\u001b[0m\u001b[0m\n",
      "\u001b[0;31mAttributeError\u001b[0m: 'ResultSet' object has no attribute 'screen_name'"
     ]
    }
   ],
   "source": [
    "query_username='Django'\n",
    "search_results=set()\n",
    "for i, user in enumerate(tweepy.Cursor(api.search_users, q=peticion, per_page=10).pages(3)):\n",
    "    print(i, user.screen_name)\n",
    "    #search_results.add(user.screen_name)\n",
    "print(list(search_results))\n",
    "    "
   ]
  },
  {
   "cell_type": "code",
   "execution_count": null,
   "metadata": {},
   "outputs": [],
   "source": []
  }
 ],
 "metadata": {
  "kernelspec": {
   "display_name": "Python 3",
   "language": "python",
   "name": "python3"
  },
  "language_info": {
   "codemirror_mode": {
    "name": "ipython",
    "version": 3
   },
   "file_extension": ".py",
   "mimetype": "text/x-python",
   "name": "python",
   "nbconvert_exporter": "python",
   "pygments_lexer": "ipython3",
   "version": "3.6.4"
  }
 },
 "nbformat": 4,
 "nbformat_minor": 2
}
