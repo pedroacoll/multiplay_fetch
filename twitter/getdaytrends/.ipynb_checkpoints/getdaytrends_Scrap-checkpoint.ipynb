{
 "cells": [
  {
   "cell_type": "code",
   "execution_count": 25,
   "metadata": {},
   "outputs": [],
   "source": [
    "import requests\n",
    "from bs4 import BeautifulSoup\n",
    "from datetime import timedelta, date"
   ]
  },
  {
   "cell_type": "code",
   "execution_count": 26,
   "metadata": {},
   "outputs": [],
   "source": [
    "def daterange(start_date, end_date):\n",
    "    for n in range(int ((end_date - start_date).days)):\n",
    "        since= start_date + timedelta(n)\n",
    "        yield since"
   ]
  },
  {
   "cell_type": "code",
   "execution_count": 31,
   "metadata": {},
   "outputs": [],
   "source": [
    "def getTweets(fecha):\n",
    "    url='http://www.trendinalia.com/twitter-trending-topics/'+country+'/'+country+'-'+ fecha +'.html'\n",
    "    r = requests.get(url)\n",
    "    #print(r.content[:100])\n",
    "    soup = BeautifulSoup(r.content, 'html.parser')\n",
    "    archivo= 'csv/'+fecha+'.csv'\n",
    "    outputFile = open(archivo, \"w+\", encoding=\"utf8\")\n",
    "    outputFile.write('text;duration\\n')\n",
    "    rows = soup.select('.zebra-striped')\n",
    "    filas=soup.select('.zebra-striped tbody tr')\n",
    "    for fila in filas:\n",
    "        name = fila.select_one('a')['title']\n",
    "        duration=fila.select('div')[2].text\n",
    "        data=[name,duration]\n",
    "        #print(name,duration)\n",
    "        outputFile.write(';'.join(data) + '\\n')\n",
    "    outputFile.flush()\n",
    "    outputFile.close()\n",
    "    print('termina el dia '+ fecha)"
   ]
  },
  {
   "cell_type": "code",
   "execution_count": 32,
   "metadata": {},
   "outputs": [],
   "source": [
    "start_date = date(2020, 2, 1)\n",
    "end_date = date(2020, 6, 23)\n",
    "country = 'spain'"
   ]
  },
  {
   "cell_type": "code",
   "execution_count": 33,
   "metadata": {},
   "outputs": [
    {
     "name": "stdout",
     "output_type": "stream",
     "text": [
      "termina el dia 200201\n",
      "termina el dia 200202\n",
      "termina el dia 200203\n"
     ]
    },
    {
     "name": "stderr",
     "output_type": "stream",
     "text": [
      "Some characters could not be decoded, and were replaced with REPLACEMENT CHARACTER.\n"
     ]
    },
    {
     "name": "stdout",
     "output_type": "stream",
     "text": [
      "termina el dia 200204\n"
     ]
    },
    {
     "name": "stderr",
     "output_type": "stream",
     "text": [
      "Some characters could not be decoded, and were replaced with REPLACEMENT CHARACTER.\n"
     ]
    },
    {
     "name": "stdout",
     "output_type": "stream",
     "text": [
      "termina el dia 200205\n",
      "termina el dia 200206\n"
     ]
    },
    {
     "name": "stderr",
     "output_type": "stream",
     "text": [
      "Some characters could not be decoded, and were replaced with REPLACEMENT CHARACTER.\n"
     ]
    },
    {
     "name": "stdout",
     "output_type": "stream",
     "text": [
      "termina el dia 200207\n"
     ]
    },
    {
     "name": "stderr",
     "output_type": "stream",
     "text": [
      "Some characters could not be decoded, and were replaced with REPLACEMENT CHARACTER.\n"
     ]
    },
    {
     "name": "stdout",
     "output_type": "stream",
     "text": [
      "termina el dia 200208\n",
      "termina el dia 200209\n"
     ]
    },
    {
     "name": "stderr",
     "output_type": "stream",
     "text": [
      "Some characters could not be decoded, and were replaced with REPLACEMENT CHARACTER.\n"
     ]
    },
    {
     "name": "stdout",
     "output_type": "stream",
     "text": [
      "termina el dia 200210\n",
      "termina el dia 200211\n",
      "termina el dia 200212\n",
      "termina el dia 200213\n",
      "termina el dia 200214\n",
      "termina el dia 200215\n",
      "termina el dia 200216\n"
     ]
    },
    {
     "name": "stderr",
     "output_type": "stream",
     "text": [
      "Some characters could not be decoded, and were replaced with REPLACEMENT CHARACTER.\n"
     ]
    },
    {
     "name": "stdout",
     "output_type": "stream",
     "text": [
      "termina el dia 200217\n"
     ]
    },
    {
     "name": "stderr",
     "output_type": "stream",
     "text": [
      "Some characters could not be decoded, and were replaced with REPLACEMENT CHARACTER.\n"
     ]
    },
    {
     "name": "stdout",
     "output_type": "stream",
     "text": [
      "termina el dia 200218\n",
      "termina el dia 200219\n",
      "termina el dia 200220\n",
      "termina el dia 200221\n",
      "termina el dia 200222\n",
      "termina el dia 200223\n"
     ]
    },
    {
     "name": "stderr",
     "output_type": "stream",
     "text": [
      "Some characters could not be decoded, and were replaced with REPLACEMENT CHARACTER.\n"
     ]
    },
    {
     "name": "stdout",
     "output_type": "stream",
     "text": [
      "termina el dia 200224\n",
      "termina el dia 200225\n",
      "termina el dia 200226\n",
      "termina el dia 200227\n"
     ]
    },
    {
     "name": "stderr",
     "output_type": "stream",
     "text": [
      "Some characters could not be decoded, and were replaced with REPLACEMENT CHARACTER.\n"
     ]
    },
    {
     "name": "stdout",
     "output_type": "stream",
     "text": [
      "termina el dia 200228\n"
     ]
    },
    {
     "name": "stderr",
     "output_type": "stream",
     "text": [
      "Some characters could not be decoded, and were replaced with REPLACEMENT CHARACTER.\n"
     ]
    },
    {
     "name": "stdout",
     "output_type": "stream",
     "text": [
      "termina el dia 200229\n"
     ]
    },
    {
     "name": "stderr",
     "output_type": "stream",
     "text": [
      "Some characters could not be decoded, and were replaced with REPLACEMENT CHARACTER.\n"
     ]
    },
    {
     "name": "stdout",
     "output_type": "stream",
     "text": [
      "termina el dia 200301\n",
      "termina el dia 200302\n",
      "termina el dia 200303\n",
      "termina el dia 200304\n",
      "termina el dia 200305\n",
      "termina el dia 200306\n",
      "termina el dia 200307\n"
     ]
    },
    {
     "name": "stderr",
     "output_type": "stream",
     "text": [
      "Some characters could not be decoded, and were replaced with REPLACEMENT CHARACTER.\n"
     ]
    },
    {
     "name": "stdout",
     "output_type": "stream",
     "text": [
      "termina el dia 200308\n",
      "termina el dia 200309\n",
      "termina el dia 200310\n",
      "termina el dia 200311\n",
      "termina el dia 200312\n"
     ]
    },
    {
     "name": "stderr",
     "output_type": "stream",
     "text": [
      "Some characters could not be decoded, and were replaced with REPLACEMENT CHARACTER.\n"
     ]
    },
    {
     "name": "stdout",
     "output_type": "stream",
     "text": [
      "termina el dia 200313\n"
     ]
    },
    {
     "name": "stderr",
     "output_type": "stream",
     "text": [
      "Some characters could not be decoded, and were replaced with REPLACEMENT CHARACTER.\n"
     ]
    },
    {
     "name": "stdout",
     "output_type": "stream",
     "text": [
      "termina el dia 200314\n"
     ]
    },
    {
     "name": "stderr",
     "output_type": "stream",
     "text": [
      "Some characters could not be decoded, and were replaced with REPLACEMENT CHARACTER.\n"
     ]
    },
    {
     "name": "stdout",
     "output_type": "stream",
     "text": [
      "termina el dia 200315\n",
      "termina el dia 200316\n",
      "termina el dia 200317\n",
      "termina el dia 200318\n",
      "termina el dia 200319\n",
      "termina el dia 200320\n",
      "termina el dia 200321\n"
     ]
    },
    {
     "name": "stderr",
     "output_type": "stream",
     "text": [
      "Some characters could not be decoded, and were replaced with REPLACEMENT CHARACTER.\n"
     ]
    },
    {
     "name": "stdout",
     "output_type": "stream",
     "text": [
      "termina el dia 200322\n",
      "termina el dia 200323\n",
      "termina el dia 200324\n",
      "termina el dia 200325\n"
     ]
    },
    {
     "name": "stderr",
     "output_type": "stream",
     "text": [
      "Some characters could not be decoded, and were replaced with REPLACEMENT CHARACTER.\n"
     ]
    },
    {
     "name": "stdout",
     "output_type": "stream",
     "text": [
      "termina el dia 200326\n",
      "termina el dia 200327\n",
      "termina el dia 200328\n"
     ]
    },
    {
     "name": "stderr",
     "output_type": "stream",
     "text": [
      "Some characters could not be decoded, and were replaced with REPLACEMENT CHARACTER.\n"
     ]
    },
    {
     "name": "stdout",
     "output_type": "stream",
     "text": [
      "termina el dia 200329\n",
      "termina el dia 200330\n",
      "termina el dia 200331\n",
      "termina el dia 200401\n"
     ]
    },
    {
     "name": "stderr",
     "output_type": "stream",
     "text": [
      "Some characters could not be decoded, and were replaced with REPLACEMENT CHARACTER.\n"
     ]
    },
    {
     "name": "stdout",
     "output_type": "stream",
     "text": [
      "termina el dia 200402\n"
     ]
    },
    {
     "name": "stderr",
     "output_type": "stream",
     "text": [
      "Some characters could not be decoded, and were replaced with REPLACEMENT CHARACTER.\n"
     ]
    },
    {
     "name": "stdout",
     "output_type": "stream",
     "text": [
      "termina el dia 200403\n",
      "termina el dia 200404\n",
      "termina el dia 200405\n",
      "termina el dia 200406\n"
     ]
    },
    {
     "name": "stderr",
     "output_type": "stream",
     "text": [
      "Some characters could not be decoded, and were replaced with REPLACEMENT CHARACTER.\n"
     ]
    },
    {
     "name": "stdout",
     "output_type": "stream",
     "text": [
      "termina el dia 200407\n",
      "termina el dia 200408\n",
      "termina el dia 200409\n",
      "termina el dia 200410\n",
      "termina el dia 200411\n",
      "termina el dia 200412\n",
      "termina el dia 200413\n",
      "termina el dia 200414\n",
      "termina el dia 200415\n",
      "termina el dia 200416\n",
      "termina el dia 200417\n",
      "termina el dia 200418\n",
      "termina el dia 200419\n",
      "termina el dia 200420\n",
      "termina el dia 200421\n"
     ]
    },
    {
     "name": "stderr",
     "output_type": "stream",
     "text": [
      "Some characters could not be decoded, and were replaced with REPLACEMENT CHARACTER.\n"
     ]
    },
    {
     "name": "stdout",
     "output_type": "stream",
     "text": [
      "termina el dia 200422\n",
      "termina el dia 200423\n",
      "termina el dia 200424\n",
      "termina el dia 200425\n",
      "termina el dia 200426\n",
      "termina el dia 200427\n",
      "termina el dia 200428\n",
      "termina el dia 200429\n",
      "termina el dia 200430\n",
      "termina el dia 200501\n",
      "termina el dia 200502\n",
      "termina el dia 200503\n",
      "termina el dia 200504\n",
      "termina el dia 200505\n",
      "termina el dia 200506\n",
      "termina el dia 200507\n",
      "termina el dia 200508\n",
      "termina el dia 200509\n",
      "termina el dia 200510\n",
      "termina el dia 200511\n",
      "termina el dia 200512\n",
      "termina el dia 200513\n",
      "termina el dia 200514\n"
     ]
    },
    {
     "name": "stderr",
     "output_type": "stream",
     "text": [
      "Some characters could not be decoded, and were replaced with REPLACEMENT CHARACTER.\n"
     ]
    },
    {
     "name": "stdout",
     "output_type": "stream",
     "text": [
      "termina el dia 200515\n",
      "termina el dia 200516\n",
      "termina el dia 200517\n",
      "termina el dia 200518\n",
      "termina el dia 200519\n",
      "termina el dia 200520\n",
      "termina el dia 200521\n",
      "termina el dia 200522\n",
      "termina el dia 200523\n",
      "termina el dia 200524\n"
     ]
    },
    {
     "name": "stderr",
     "output_type": "stream",
     "text": [
      "Some characters could not be decoded, and were replaced with REPLACEMENT CHARACTER.\n"
     ]
    },
    {
     "name": "stdout",
     "output_type": "stream",
     "text": [
      "termina el dia 200525\n",
      "termina el dia 200526\n",
      "termina el dia 200527\n",
      "termina el dia 200528\n",
      "termina el dia 200529\n",
      "termina el dia 200530\n",
      "termina el dia 200531\n",
      "termina el dia 200601\n",
      "termina el dia 200602\n",
      "termina el dia 200603\n"
     ]
    },
    {
     "name": "stderr",
     "output_type": "stream",
     "text": [
      "Some characters could not be decoded, and were replaced with REPLACEMENT CHARACTER.\n"
     ]
    },
    {
     "name": "stdout",
     "output_type": "stream",
     "text": [
      "termina el dia 200604\n",
      "termina el dia 200605\n",
      "termina el dia 200606\n",
      "termina el dia 200607\n",
      "termina el dia 200608\n",
      "termina el dia 200609\n",
      "termina el dia 200610\n",
      "termina el dia 200611\n",
      "termina el dia 200612\n",
      "termina el dia 200613\n"
     ]
    },
    {
     "name": "stderr",
     "output_type": "stream",
     "text": [
      "Some characters could not be decoded, and were replaced with REPLACEMENT CHARACTER.\n"
     ]
    },
    {
     "name": "stdout",
     "output_type": "stream",
     "text": [
      "termina el dia 200614\n",
      "termina el dia 200615\n",
      "termina el dia 200616\n"
     ]
    },
    {
     "name": "stderr",
     "output_type": "stream",
     "text": [
      "Some characters could not be decoded, and were replaced with REPLACEMENT CHARACTER.\n"
     ]
    },
    {
     "name": "stdout",
     "output_type": "stream",
     "text": [
      "termina el dia 200617\n"
     ]
    },
    {
     "name": "stderr",
     "output_type": "stream",
     "text": [
      "Some characters could not be decoded, and were replaced with REPLACEMENT CHARACTER.\n"
     ]
    },
    {
     "name": "stdout",
     "output_type": "stream",
     "text": [
      "termina el dia 200618\n",
      "termina el dia 200619\n",
      "termina el dia 200620\n"
     ]
    },
    {
     "name": "stderr",
     "output_type": "stream",
     "text": [
      "Some characters could not be decoded, and were replaced with REPLACEMENT CHARACTER.\n"
     ]
    },
    {
     "name": "stdout",
     "output_type": "stream",
     "text": [
      "termina el dia 200621\n",
      "termina el dia 200622\n"
     ]
    }
   ],
   "source": [
    "for fecha in daterange(start_date, end_date):\n",
    "    fecha=fecha.strftime(\"%Y%m%d\")[2:]\n",
    "    getTweets(fecha)"
   ]
  },
  {
   "cell_type": "code",
   "execution_count": 9,
   "metadata": {},
   "outputs": [
    {
     "name": "stdout",
     "output_type": "stream",
     "text": [
      "#CachitosNochevieja 14:05\n",
      "Pedroche 10:55\n",
      "Díaz Ayuso 10:40\n",
      "#ESC250 10:25\n",
      "Adriana Lastra 10:20\n",
      "Papa 10:10\n",
      "Empiezo 2020 10:05\n",
      "Happy New Year 10:05\n",
      "#FelizMiercoles 09:50\n",
      "#ElCineQueHeVistoEn2020 09:40\n",
      "#ConciertodeAñoNuevo 09:30\n",
      "José Mota 09:25\n",
      "#Dispatch 09:20\n",
      "Empezamos 2020 09:20\n",
      "rosa díez 09:20\n",
      "#rosconxbox 09:00\n",
      "Juan Pablo II 08:20\n",
      "Ruge la Caverna 08:10\n",
      "#CampanadasA3 08:05\n",
      "Lacasitos 08:05\n",
      "#SheIsHere 08:00\n",
      "#NocheviejaMota 07:45\n",
      "#HappyNew2020 07:30\n",
      "Notting Hill 07:30\n",
      "#1DeEnero 07:25\n",
      "Cillian Murphy 07:25\n",
      "Gracias 2019 07:25\n",
      "PSOE 07:20\n",
      "Resaca 07:20\n",
      "#NavidadHeretics7 07:15\n",
      "Cachitos Nochevieja 07:05\n",
      "Rennes 07:05\n",
      "#Feliz2020TVE 06:55\n",
      "#FelizMartes 06:55\n",
      "#CuentoDeNavidadWorten 06:50\n",
      "Perdón 06:45\n",
      "San Silvestre 06:45\n",
      "#feliznochevieja 06:35\n",
      "#SomosLaAudiencia1E 06:35\n",
      "New Year's Day 06:35\n",
      "Paz Padilla 06:30\n",
      "#terremoto 06:20\n",
      "Bienvenido 2020 06:20\n",
      "irpf 06:15\n",
      "#BTSxRockinEve 06:10\n",
      "#SiempreJuntosGianmarco 06:10\n",
      "Chicote 06:05\n",
      "#FachAndFurious 06:00\n",
      "#WandaVision 06:00\n",
      "C-3PO 05:55\n",
      "#SorteoEA 05:50\n",
      "Feliz 2️⃣0️⃣2️⃣0️⃣ 05:50\n",
      "#ResultadoAEA 05:45\n",
      "Metrópolis 05:45\n",
      "Solemnidad de Santa María 05:40\n",
      "#empiezaasentir2020 05:35\n",
      "#nuevoacuerdoparaespaña 05:35\n",
      "Garcés 05:35\n",
      "Riego 05:35\n",
      "Urte Berri On 05:35\n",
      "#Elviaje2020 05:20\n",
      "#SanSilvestreVallecana 05:20\n",
      "Felis 05:20\n",
      "#BTSatTimeSquare 05:15\n",
      "#GILICOMBO2019 05:15\n",
      "En Nochevieja 05:15\n",
      "Southampton 05:05\n",
      "José Carlos Martínez 05:00\n",
      "Adiós 2019 04:55\n",
      "David Villa 04:55\n",
      "Paulina Rubio 04:50\n",
      "Andris Nelsons 04:45\n",
      "#AnoNuevo2020 04:40\n",
      "Bergoglio 04:35\n",
      "Sánchez 04:35\n",
      "#RichardJewell 04:30\n",
      "Newcastle 04:30\n",
      "Strauss 04:30\n",
      "#1Enero 04:25\n",
      "Danubio Azul 04:20\n",
      "#NewYearsDay 04:15\n",
      "Feliz 2020 04:15\n",
      "Darksiders 04:10\n",
      "Este 2019 04:10\n",
      "#Pubjetove 04:05\n",
      "Bon Any 04:05\n",
      "Copa del Emperador 04:05\n",
      "Goat Simulator 04:05\n",
      "kepa 04:05\n",
      "Maddison 04:05\n",
      "Ramón García 04:05\n",
      "Uvas 04:05\n",
      "Viator 04:05\n",
      "#Nochevieja2019 04:00\n",
      "Gabriel Jesús 04:00\n",
      "Gracias 2020 04:00\n",
      "Molí 04:00\n",
      "#CenaMekong 03:55\n",
      "Brighton 03:55\n",
      "#Bienvenido2020 03:50\n",
      "C3-PO 03:50\n",
      "John Boyega 03:50\n",
      "Ruth Lorenzo 03:50\n",
      "#CantandoAl2020 03:45\n",
      "#Neujahrskonzert 03:45\n",
      "Roberto Leal 03:45\n",
      "#PremierLeagueDAZN 03:40\n",
      "#quedateconmigotve 03:35\n",
      "Campaña 03:35\n",
      "José Sacristán 03:35\n",
      "Pepe Domingo Castaño 03:35\n",
      "Bette Davis 03:30\n",
      "crespo 03:30\n",
      "Este 2020 03:30\n",
      "Hugh Grant 03:30\n",
      "Reche 03:30\n",
      "#NewYearChallenge 03:25\n",
      "#TeAlquilo1E 03:25\n",
      "Alfa Romeo 03:20\n",
      "Baby Jane 03:20\n",
      "Cintia 03:20\n",
      "Fede Varela 03:20\n",
      "Leeds 03:20\n",
      "Madre de Dios 03:20\n",
      "Renfe y Adif 03:20\n",
      "#contaminación 03:10\n",
      "#RecheAlMillon 03:10\n",
      "Grecas 03:10\n",
      "#Adios2019 03:05\n",
      "el 2019 03:05\n",
      "Multi 03:05\n",
      "Página 1 de 366 03:05\n",
      "#CachitosRemake 03:00\n",
      "#DoctorWho 03:00\n",
      "Chimo Bayo 03:00\n",
      "Criadas y Señoras 03:00\n",
      "Mahrez 03:00\n",
      "Antonio Muñoz Molina 02:55\n",
      "FELIZ AÑOOO 02:55\n",
      "#2020SinReyes 02:50\n",
      "Carlos Baute 02:50\n",
      "Hokusai 02:50\n",
      "#MCIEVE 02:45\n",
      "danny ings 02:45\n",
      "El Vecino 02:45\n",
      "Julia Roberts 02:45\n",
      "#ARSMUN 02:40\n",
      "Empezando 2020 02:40\n",
      "Igualmenteeee 02:40\n",
      "Musikverein 02:40\n",
      "#ForJisooWithLove 02:35\n",
      "Anne Igartiburu 02:35\n",
      "Ojalá Patri 02:35\n",
      "#2020ConTodo 02:30\n",
      "#ProtectTwice 02:30\n",
      "#RockinEve 02:30\n",
      "Hola 2020 02:30\n",
      "#capdanyassu20 02:25\n",
      "Feliz Año 02:25\n",
      "Grealish 02:25\n",
      "Progenitor 02:25\n",
      "#2020NewYear 02:20\n",
      "#2020Republicano 02:20\n",
      "#DirectoAl2020 02:20\n",
      "Aston Villa 02:20\n",
      "Manueles 02:20\n",
      "Oleiros 02:20\n",
      "Pérez Royo 02:20\n",
      "#FirstDates1E 02:15\n",
      "Jack Grealish 02:15\n",
      "Que 2020 02:15\n",
      "#BHACHE 02:10\n",
      "Ancelotti 02:10\n",
      "De Gea 02:10\n",
      "Igualmentee 02:10\n",
      "Mi 2020 02:10\n",
      "Rosa María Artal 02:10\n",
      "#GavilanesNova 02:05\n",
      "Día 1 02:05\n",
      "Heil Gila 02:05\n",
      "Hoy 1 02:05\n",
      "Maguire 02:05\n",
      "Manolo Vieira 02:05\n",
      "#kmsxela 02:00\n",
      "#Monóculos2020 02:00\n",
      "#SOUTOT 02:00\n",
      "#SpreadLove 02:00\n",
      "AVAI 02:00\n",
      "Jahanbakhsh 02:00\n",
      "Julie Andrews 02:00\n",
      "Lingard 02:00\n",
      "#Championship 01:55\n",
      "#jamescharlesisoverparty 01:55\n",
      "El Puma 01:55\n",
      "Pope 01:55\n",
      "Robert Kubica 01:55\n",
      "Abalos 01:50\n",
      "Año Nuevo 01:50\n",
      "feliiiz 01:50\n",
      "Grace Jones 01:50\n",
      "Pimpinela 01:50\n",
      "Su Santidad 01:50\n",
      "Viena 01:50\n",
      "David Stern 01:45\n",
      "En la 1 01:45\n",
      "Miguel Ríos 01:45\n",
      "nino bravo 01:45\n",
      "#Vienna 01:40\n",
      "Campanadas 2020 01:40\n",
      "Robin Williams 01:40\n",
      "sergio dalma 01:40\n",
      "#lufc 01:35\n",
      "#wienerphilharmoniker 01:35\n",
      "Amaral 01:35\n",
      "Gentleman 01:35\n",
      "Matic 01:35\n",
      "#BringMonstaX7Back 01:30\n",
      "#happynewyear2020 01:30\n",
      "#JanuRAREy 01:30\n",
      "Ni 24 01:30\n",
      "Pépé 01:30\n",
      "Spiderman Homecoming 01:30\n",
      "Ava Max 01:25\n",
      "Empiezas 01:25\n",
      "Heechul 01:25\n",
      "Mi 2019 01:25\n",
      "Pacific Rim 01:25\n",
      "#harrylouyear 01:20\n",
      "Raffaella 01:20\n",
      "#BuhoComoTu1E 01:15\n",
      "#Venteal20 01:15\n",
      "Camela 01:15\n",
      "Happy 2020 01:15\n",
      "Jesús Vázquez 01:15\n",
      "María Isabel 01:15\n",
      "Welcome 2020 01:15\n",
      "#Golpedegracia 01:10\n",
      "#Pedroche 01:10\n",
      "Famous 01:10\n",
      "Gracias al PSOE 01:10\n",
      "Rodrigo Cuevas 01:10\n",
      "Santo Padre 01:10\n",
      "Soldi 01:10\n",
      "#1Ene 01:05\n",
      "#JornadaMundialDeLaPaz 01:05\n",
      "CSIC 01:05\n",
      "FELIZ AÑO A TOD 01:05\n",
      "Torreira 01:05\n",
      "#campanadastve 01:00\n",
      "#HugoEsGH1E 01:00\n",
      "#MUFC 01:00\n",
      "#neujahrskonzert2020 01:00\n",
      "#skamfrance 01:00\n",
      "Canarias 01:00\n",
      "El Arsenal 01:00\n",
      "El United 01:00\n",
      "Feliciano 01:00\n",
      "Times Square 01:00\n",
      "#FelizAnoNuevo 00:55\n",
      "Emery 00:55\n",
      "Emirates 00:55\n",
      "Eurosport 00:55\n",
      "Lastre 00:55\n",
      "massiel 00:55\n",
      "Özil 00:55\n",
      "#CampanadesVLC 00:50\n",
      "#resaca 00:50\n",
      "Anthem 00:50\n",
      "Danubio 00:50\n",
      "El 2020 00:50\n",
      "Fangoria 00:50\n",
      "FELIZ AÑO MI GENTE 00:50\n",
      "FELIZ AÑO NUEVO A TODOS 00:50\n",
      "Junco 00:50\n",
      "Lc 2 00:50\n",
      "Marcha Radetzky 00:50\n",
      "Radio Futura 00:50\n",
      "#CineVistoEn2020 00:45\n",
      "#FelizAño 00:45\n",
      "Feliz 1936 00:45\n",
      "FELIZ AÑO GENTE 00:45\n",
      "Igualmenteee 00:45\n",
      "Lastra 00:45\n",
      "12 Lacasitos 00:40\n",
      "Arkano 00:40\n",
      "FELIZ AÑO A TODOS 00:40\n",
      "Leo Harlem 00:40\n",
      "Loreen 00:40\n",
      "#Beethoven250 00:35\n",
      "Comenzamos 2020 00:35\n",
      "Feliiz 00:35\n",
      "filarmónica de viena 00:35\n",
      "HAPPY NEW YEAR EVERYONE 00:35\n",
      "Para PS4 00:35\n",
      "Richard Jewell 00:35\n",
      "#2020ConMiriam 00:30\n",
      "#AñoNuevo 00:30\n",
      "#ElMejorVeranoDeMiVida 00:30\n",
      "#PapaFrancisco 00:30\n",
      "tino casal 00:30\n",
      "#c3po 00:25\n",
      "duncan dhu 00:25\n",
      "El CSIC 00:25\n",
      "Pedroche y Chicote 00:25\n",
      "Santa María Madre de Dios 00:25\n",
      "#FirstDates31D 00:20\n",
      "#PuertaDelSol 00:20\n",
      "#TeAlquilo31D 00:20\n",
      "años 20 00:20\n",
      "Belial 00:20\n",
      "Brindo 00:20\n",
      "De Ligt 00:20\n",
      "Feliz Halloween 00:20\n",
      "Ignatius 00:20\n",
      "Martes y 13 00:20\n",
      "Miguel Bosé 00:20\n",
      "OS QUIERO 00:20\n",
      "Sonia y Selena 00:20\n",
      "Tatiana 00:20\n",
      "#COYG 00:15\n",
      "#NEWLEI 00:15\n",
      "#NewYearsEve 00:15\n",
      "#SpidermanHomecoming 00:15\n",
      "Gayoso 00:15\n",
      "Mis 12 00:15\n",
      "Objetivos 2020 00:15\n",
      "Ramontxu 00:15\n",
      "Ryan 00:15\n",
      "#Ayuso 00:10\n",
      "#campanadas2019 00:10\n",
      "#CasoCantora3 00:10\n",
      "#JoseMota 00:10\n",
      "#newyear 00:10\n",
      "#Welcome2020 00:10\n",
      "#너의_꿈을_위해_몬베베가_싸워줄게 00:10\n",
      "Bon Any 2020 00:10\n",
      "David Lean 00:10\n",
      "Defne 00:10\n",
      "El Papa 00:10\n",
      "Feliiiiz 00:10\n",
      "Feliz Año 2️⃣0️⃣2️⃣0️⃣ 00:10\n",
      "Happy New 00:10\n",
      "Igartiburu 00:10\n",
      "Irma Soriano 00:10\n",
      "para 2020 00:10\n",
      "rocío jurado 00:10\n",
      "#cristinapedroche 00:05\n",
      "#FamiliaSweetie 00:05\n",
      "#heautifulharries 00:05\n",
      "#nocheviejaenharlem 00:05\n",
      "Canarios 00:05\n",
      "Concierto de Año Nuevo 00:05\n",
      "Dover 00:05\n",
      "Elettra Lamborghini 00:05\n",
      "Feliz 2 00:05\n",
      "FELIZ AÑO NUEVO A TOD 00:05\n",
      "la pedroche 00:05\n",
      "Margari 00:05\n",
      "Ömer 00:05\n",
      "Pijama 00:05\n",
      "Pues 2019 00:05\n",
      "quim gutiérrez 00:05\n",
      "Skone 00:05\n"
     ]
    }
   ],
   "source": []
  },
  {
   "cell_type": "code",
   "execution_count": null,
   "metadata": {},
   "outputs": [],
   "source": []
  }
 ],
 "metadata": {
  "kernelspec": {
   "display_name": "Python 3",
   "language": "python",
   "name": "python3"
  },
  "language_info": {
   "codemirror_mode": {
    "name": "ipython",
    "version": 3
   },
   "file_extension": ".py",
   "mimetype": "text/x-python",
   "name": "python",
   "nbconvert_exporter": "python",
   "pygments_lexer": "ipython3",
   "version": "3.6.4"
  }
 },
 "nbformat": 4,
 "nbformat_minor": 2
}
