{
 "cells": [
  {
   "cell_type": "code",
   "execution_count": 58,
   "metadata": {},
   "outputs": [],
   "source": [
    "# https://www.youtube.com/watch?v=Oczvz6D0-Hk"
   ]
  },
  {
   "cell_type": "code",
   "execution_count": 59,
   "metadata": {},
   "outputs": [],
   "source": [
    "import requests \n",
    "import json"
   ]
  },
  {
   "cell_type": "code",
   "execution_count": 60,
   "metadata": {},
   "outputs": [
    {
     "name": "stdout",
     "output_type": "stream",
     "text": [
      "http://www.instagram.com/explore/tags/fourseasons/?__a=1\n"
     ]
    }
   ],
   "source": [
    "tag = \"fourseasons\"\n",
    "url = 'http://www.instagram.com/explore/tags/' + tag + '/?__a=1'\n",
    "print url"
   ]
  },
  {
   "cell_type": "code",
   "execution_count": 61,
   "metadata": {},
   "outputs": [],
   "source": [
    "keys = ['id','owner','display_src','code','caption','comments','likes']"
   ]
  },
  {
   "cell_type": "code",
   "execution_count": 62,
   "metadata": {},
   "outputs": [],
   "source": [
    "def jprint(data_dict):\n",
    "    print(json.dumps(data.dict,indent = 4)) "
   ]
  },
  {
   "cell_type": "code",
   "execution_count": 63,
   "metadata": {},
   "outputs": [],
   "source": [
    "# grab data\n",
    "def get_ig_page(url,session = None):\n",
    "    print (url)\n",
    "    session = session or requests.Session()\n",
    "    r = session.get(url)\n",
    "    r_code = r.status_code\n",
    "    print(r_code)\n",
    "    if r_code == requests.codes.ok:\n",
    "        return r\n",
    "    else:\n",
    "        return None "
   ]
  },
  {
   "cell_type": "code",
   "execution_count": 64,
   "metadata": {},
   "outputs": [],
   "source": [
    "def flatten_list(a_list):\n",
    "    if a_list:\n",
    "        flat = ' '.join(list_item for list_item in a_list if list_item is not None)\n",
    "        return flat\n",
    "    return None "
   ]
  },
  {
   "cell_type": "code",
   "execution_count": 65,
   "metadata": {},
   "outputs": [],
   "source": [
    "captions = list()"
   ]
  },
  {
   "cell_type": "code",
   "execution_count": 75,
   "metadata": {},
   "outputs": [
    {
     "name": "stdout",
     "output_type": "stream",
     "text": [
      "http://www.instagram.com/explore/tags/fourseasons/?__a=1\n",
      "200\n"
     ]
    }
   ],
   "source": [
    "ig_data_dict = get_ig_page(url)"
   ]
  },
  {
   "cell_type": "code",
   "execution_count": 77,
   "metadata": {},
   "outputs": [
    {
     "ename": "AttributeError",
     "evalue": "'dict' object has no attribute 'json'",
     "output_type": "error",
     "traceback": [
      "\u001b[0;31m---------------------------------------------------------------------------\u001b[0m",
      "\u001b[0;31mAttributeError\u001b[0m                            Traceback (most recent call last)",
      "\u001b[0;32m<ipython-input-77-88bce7d93f93>\u001b[0m in \u001b[0;36m<module>\u001b[0;34m()\u001b[0m\n\u001b[1;32m      1\u001b[0m \u001b[0;32mif\u001b[0m \u001b[0mig_data_dict\u001b[0m \u001b[0;32mis\u001b[0m \u001b[0;32mnot\u001b[0m \u001b[0mNone\u001b[0m\u001b[0;34m:\u001b[0m\u001b[0;34m\u001b[0m\u001b[0m\n\u001b[0;32m----> 2\u001b[0;31m     \u001b[0mig_data_dict\u001b[0m \u001b[0;34m=\u001b[0m \u001b[0mig_data_dict\u001b[0m\u001b[0;34m.\u001b[0m\u001b[0mjson\u001b[0m\u001b[0;34m(\u001b[0m\u001b[0;34m)\u001b[0m\u001b[0;34m\u001b[0m\u001b[0m\n\u001b[0m\u001b[1;32m      3\u001b[0m     \u001b[0mdata\u001b[0m \u001b[0;34m=\u001b[0m \u001b[0mig_data_dict\u001b[0m\u001b[0;34m.\u001b[0m\u001b[0mget\u001b[0m\u001b[0;34m(\u001b[0m\u001b[0;34m'tag'\u001b[0m\u001b[0;34m,\u001b[0m\u001b[0mNone\u001b[0m\u001b[0;34m)\u001b[0m\u001b[0;34m\u001b[0m\u001b[0m\n\u001b[1;32m      4\u001b[0m \u001b[0;34m\u001b[0m\u001b[0m\n\u001b[1;32m      5\u001b[0m     \u001b[0;31m# top posts\u001b[0m\u001b[0;34m\u001b[0m\u001b[0;34m\u001b[0m\u001b[0m\n",
      "\u001b[0;31mAttributeError\u001b[0m: 'dict' object has no attribute 'json'"
     ]
    }
   ],
   "source": [
    "if ig_data_dict is not None:\n",
    "    ig_data_dict = ig_data_dict.json()\n",
    "    data = ig_data_dict.get('tag',None)\n",
    "\n",
    "    # top posts\n",
    "    top_posts = data.get('top_posts',None)\n",
    "    if top_posts is not None:\n",
    "        top_posts = top_posts.get('nodes')\n",
    "    \n",
    "   "
   ]
  },
  {
   "cell_type": "code",
   "execution_count": 73,
   "metadata": {},
   "outputs": [
    {
     "ename": "IndentationError",
     "evalue": "expected an indented block (<ipython-input-73-55444352106c>, line 4)",
     "output_type": "error",
     "traceback": [
      "\u001b[0;36m  File \u001b[0;32m\"<ipython-input-73-55444352106c>\"\u001b[0;36m, line \u001b[0;32m4\u001b[0m\n\u001b[0;31m    top_posts = top_posts.get('nodes')\u001b[0m\n\u001b[0m            ^\u001b[0m\n\u001b[0;31mIndentationError\u001b[0m\u001b[0;31m:\u001b[0m expected an indented block\n"
     ]
    }
   ],
   "source": [
    "    # recent posts\n",
    "    recent_posts = data.get('media',None)\n",
    "    if recent_posts is not None:\n",
    "        recent_posts = recent_posts.get('nodes')\n",
    "    \n",
    "    for post in top_post:\n",
    "        caption = post.get('caption',None)\n",
    "        if caption is not None:\n",
    "            captions.append(caption)\n",
    "    \n",
    "    print(\"We have\", len(caption),'captions')\n",
    "    \n",
    "    flat_options = flatten_list(captions)"
   ]
  },
  {
   "cell_type": "code",
   "execution_count": null,
   "metadata": {},
   "outputs": [],
   "source": [
    "get_ig_page(url)"
   ]
  },
  {
   "cell_type": "code",
   "execution_count": null,
   "metadata": {},
   "outputs": [],
   "source": [
    " # recent posts\n",
    "    recent_posts = data.get('media',None)\n",
    "    if recent_posts is not None:\n",
    "        recent_posts = recent_posts.get('nodes')\n",
    "    \n",
    "    for post in top_post:\n",
    "        caption = post.get('caption',None)\n",
    "        if caption is not None:\n",
    "            captions.append(caption)\n",
    "    \n",
    "    print(\"We have\", len(caption),'captions')\n",
    "    \n",
    "    flat_options = flatten_list(captions)"
   ]
  }
 ],
 "metadata": {
  "kernelspec": {
   "display_name": "Python 3",
   "language": "python",
   "name": "python3"
  },
  "language_info": {
   "codemirror_mode": {
    "name": "ipython",
    "version": 3
   },
   "file_extension": ".py",
   "mimetype": "text/x-python",
   "name": "python",
   "nbconvert_exporter": "python",
   "pygments_lexer": "ipython3",
   "version": "3.6.4"
  }
 },
 "nbformat": 4,
 "nbformat_minor": 2
}
